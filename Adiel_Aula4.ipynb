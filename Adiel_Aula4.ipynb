{
 "cells": [
  {
   "cell_type": "markdown",
   "metadata": {},
   "source": [
    "## Adiel Dos Santos Nascimento - 201504940002\n"
   ]
  },
  {
   "cell_type": "markdown",
   "metadata": {},
   "source": [
    "#### Aula 04 --> 05/10/2018"
   ]
  },
  {
   "cell_type": "markdown",
   "metadata": {},
   "source": [
    "### Importações:"
   ]
  },
  {
   "cell_type": "code",
   "execution_count": 7,
   "metadata": {
    "collapsed": true
   },
   "outputs": [],
   "source": [
    "from IPython.display import Image\n",
    "from IPython.display import HTML\n",
    "import matplotlib.pyplot as plt\n",
    "import numpy as np\n",
    "import numpy.random as npr\n",
    "import math"
   ]
  },
  {
   "cell_type": "markdown",
   "metadata": {},
   "source": [
    "### Erro Relativo"
   ]
  },
  {
   "cell_type": "code",
   "execution_count": 6,
   "metadata": {
    "collapsed": false
   },
   "outputs": [
    {
     "name": "stdout",
     "output_type": "stream",
     "text": [
      "Percentual:  0.0047328316531780965\n",
      "Percentual:  1.886792452830189\n"
     ]
    }
   ],
   "source": [
    "ErroRelativo=0.1\n",
    "Percentual=(ErroRelativo/2112.9)*100\n",
    "print('Percentual: ',Percentual)\n",
    "\n",
    "ErroRelativo=0.1\n",
    "Percentual=(ErroRelativo/5.3)*100\n",
    "print('Percentual: ',Percentual)"
   ]
  },
  {
   "cell_type": "markdown",
   "metadata": {},
   "source": [
    "### Plotar valor absoluto"
   ]
  },
  {
   "cell_type": "code",
   "execution_count": null,
   "metadata": {
    "collapsed": true
   },
   "outputs": [],
   "source": []
  },
  {
   "cell_type": "code",
   "execution_count": 17,
   "metadata": {
    "collapsed": false
   },
   "outputs": [
    {
     "data": {
      "image/png": "[encoded data removed]",
      "text/plain": [
       "<matplotlib.figure.Figure at 0x1a139fc2d68>"
      ]
     },
     "metadata": {},
     "output_type": "display_data"
    }
   ],
   "source": [
    "def funcao(t):\n",
    "    return 10**(1-t)\n",
    "\n",
    "def fun(x):\n",
    "        return 0.5*10**(1-x)\n",
    "\n",
    "n = np.linspace(2,12, num=1000)\n",
    "b = np.linspace(2,12, num=1000)\n",
    "plt.plot(n, funcao(n),color='red')\n",
    "plt.plot(b, fun(b))\n",
    "plt.xlabel('Erro')\n",
    "plt.ylabel('Precisão')\n",
    "plt.show()"
   ]
  },
  {
   "cell_type": "markdown",
   "metadata": {},
   "source": [
    "### "
   ]
  },
  {
   "cell_type": "code",
   "execution_count": 25,
   "metadata": {
    "collapsed": false
   },
   "outputs": [
    {
     "name": "stdout",
     "output_type": "stream",
     "text": [
      "12\n",
      "8.0\n"
     ]
    }
   ],
   "source": [
    "def absoluto(Erro_X,Erro_Y):\n",
    "    return Erro_X + Erro_Y\n",
    "\n",
    "def relativo(x,y):\n",
    "    erx= x/x+y\n",
    "    ery = y/x+y\n",
    "    return erx + ery\n",
    "\n",
    "print(absoluto(4,8))\n",
    "print(relativo(3,3))"
   ]
  }
 ],
 "metadata": {
  "anaconda-cloud": {},
  "kernelspec": {
   "display_name": "Python [default]",
   "language": "python",
   "name": "python3"
  },
  "language_info": {
   "codemirror_mode": {
    "name": "ipython",
    "version": 3
   },
   "file_extension": ".py",
   "mimetype": "text/x-python",
   "name": "python",
   "nbconvert_exporter": "python",
   "pygments_lexer": "ipython3",
   "version": "3.5.2"
  }
 },
 "nbformat": 4,
 "nbformat_minor": 1
}
